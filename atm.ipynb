{
 "cells": [
  {
   "cell_type": "code",
   "execution_count": null,
   "metadata": {},
   "outputs": [
    {
     "ename": "",
     "evalue": "",
     "output_type": "error",
     "traceback": [
      "\u001b[1;31mRunning cells with 'Python 3.12.4' requires the ipykernel package.\n",
      "\u001b[1;31mRun the following command to install 'ipykernel' into the Python environment. \n",
      "\u001b[1;31mCommand: 'c:/Users/Nishita/AppData/Local/Programs/Python/Python312/python.exe -m pip install ipykernel -U --user --force-reinstall'"
     ]
    }
   ],
   "source": [
    "balance = float(input(\"Enter balance amount\"))\n",
    "name = str(input(\"Enter account holder name: \"))\n",
    "\n",
    "print(\"Enter your choice: \")\n",
    "print(\"1.Check Balance\\n2.Deposit Money\\n3.Withdraw Money\\n4.Exit the system\")\n",
    "choice = int(input())\n",
    "#n=choice\n",
    "#while n<5:\n",
    "if choice == 1:\n",
    "  print(f\"Balance amount is:{balance}\")\n",
    "elif choice ==2:\n",
    "  print(\"Enter deposit amount\")\n",
    "  deposit=float(input())\n",
    "  balance=balance+deposit\n",
    "  print(f\"You deposited amount {deposit}\")\n",
    "  print(f\"Total balance is {balance} after depositing amount \")\n",
    "elif choice ==3:\n",
    "  print(\"Enter withdrawl amount ('withdrawl amount should be less than total balance')\")\n",
    "  withdrawl=float(input())\n",
    "  if withdrawl<balance:\n",
    "    balance=balance-withdrawl\n",
    "    print(f\"You have withdraw amount {withdrawl}\")\n",
    "    print(f\"Total balance is {balance} after withdrawing amount {withdrawl} \")\n",
    "  else:\n",
    "    print(\"Not enough balance available\")\n",
    "else:\n",
    "  print(\"Exiting the system\")"
   ]
  }
 ],
 "metadata": {
  "kernelspec": {
   "display_name": "Python 3",
   "language": "python",
   "name": "python3"
  },
  "language_info": {
   "name": "python",
   "version": "3.12.4"
  }
 },
 "nbformat": 4,
 "nbformat_minor": 2
}
